{
 "cells": [
  {
   "cell_type": "markdown",
   "id": "f389af77-a7ee-4b2b-b73f-0994f31e8fac",
   "metadata": {},
   "source": [
    "# import Library"
   ]
  },
  {
   "cell_type": "code",
   "execution_count": 1,
   "id": "09271118-fdef-43ad-86d0-a77effbf8b4f",
   "metadata": {},
   "outputs": [],
   "source": [
    "import numpy as np"
   ]
  },
  {
   "cell_type": "markdown",
   "id": "efedafae-8770-4924-abb7-869be0e9a043",
   "metadata": {},
   "source": [
    "# Neural Net class"
   ]
  },
  {
   "cell_type": "code",
   "execution_count": 3,
   "id": "030f2a5d-806e-43c1-abb2-a4e88db5a4e5",
   "metadata": {},
   "outputs": [],
   "source": [
    "class NeuralNet():\n",
    "    \n",
    "    \n",
    "    def __init__(self):\n",
    "        self.input_shape = -1\n",
    "        self.out_put_shape = -1\n",
    "        self.batch_size = -1\n",
    "        self.layer_count = 0\n",
    "        self.layer_unit_dict = {}\n",
    "        self.weight_matrix_dict = {}\n",
    "        \n",
    "        \n",
    "    def add(self, unit):\n",
    "        self.layer_count += 1\n",
    "        self.layer_unit_dict[self.layer_count] = unit\n",
    "        \n",
    "        \n",
    "#         入力　Keyエラーになるで \n",
    "        row    = self.layer_unit_dict[self.layer_count-1] #pre layer\n",
    "        column = self.layer_unit_dict[self.layer_count]   #current layer\n",
    "        weight_matrix = np.array([[1 for j in range(column)]for i in range(row)])\n",
    "        self.weight_matrix_dict[self.layer_count-1] = \n",
    "    \n",
    "    def _compile(self):\n",
    "        dami = 0\n",
    "        \n",
    "        \n",
    "    def learn(self, x_train, y_train, batch_size,srides, epochs):\n",
    "        \n",
    "        \n",
    "        for epoch in range(epochs):\n",
    "            for batch in range(batch_size):\n",
    "                x, y = x_train[batch*sride : (batch+1)*sride], y_train[batch*sride : (batch+1)*sride]  \n",
    "                \n",
    "        \n",
    "    \n",
    "    def fit(self, x_train, y_train, batch_size, epochs):\n",
    "        data_size = x_train.shape[0]\n",
    "        input_size = x_train.shape[1]\n",
    "        output_size = y_train.shape[1]\n",
    "        srides = data_size//batch_size\n",
    "        \n",
    "        if data_size != y_train.shape[0]:\n",
    "            raise Exception(\"Inconsist shape error\")\n",
    "            \n",
    "        self.layer_unit_dict[0] = input_size\n",
    "        self.learn(x_train, y_train, srides, epochs)\n",
    "        \n",
    "        \n",
    "    \n",
    "    def evaluate(self):\n",
    "        dami = 0\n",
    "        \n",
    "    "
   ]
  },
  {
   "cell_type": "markdown",
   "id": "97879326-fafb-4ad8-af7b-d9d679b4fa05",
   "metadata": {},
   "source": [
    "# Optimizer class"
   ]
  },
  {
   "cell_type": "code",
   "execution_count": null,
   "id": "e12d40c1-3e5b-4862-9091-c01ff476fc8a",
   "metadata": {},
   "outputs": [],
   "source": [
    "class optimizer():\n",
    "    \n",
    "    \n",
    "    def __init__(self):\n",
    "        "
   ]
  },
  {
   "cell_type": "code",
   "execution_count": 5,
   "id": "426b606b-74a5-4e18-b0f1-aa15898f1409",
   "metadata": {},
   "outputs": [
    {
     "ename": "Exception",
     "evalue": "Inconsistent shape error",
     "output_type": "error",
     "traceback": [
      "\u001b[0;31m---------------------------------------------------------------------------\u001b[0m",
      "\u001b[0;31mException\u001b[0m                                 Traceback (most recent call last)",
      "\u001b[0;32m<ipython-input-5-5c68fac466ba>\u001b[0m in \u001b[0;36m<module>\u001b[0;34m\u001b[0m\n\u001b[1;32m      1\u001b[0m \u001b[0;32mif\u001b[0m \u001b[0;36m1\u001b[0m\u001b[0;34m!=\u001b[0m\u001b[0;36m0\u001b[0m\u001b[0;34m:\u001b[0m\u001b[0;34m\u001b[0m\u001b[0;34m\u001b[0m\u001b[0m\n\u001b[0;32m----> 2\u001b[0;31m     \u001b[0;32mraise\u001b[0m \u001b[0mException\u001b[0m\u001b[0;34m(\u001b[0m\u001b[0;34m\"Inconsistent shape error\"\u001b[0m\u001b[0;34m)\u001b[0m\u001b[0;34m\u001b[0m\u001b[0;34m\u001b[0m\u001b[0m\n\u001b[0m",
      "\u001b[0;31mException\u001b[0m: Inconsistent shape error"
     ]
    }
   ],
   "source": [
    "if 1!=0:\n",
    "    raise Exception(\"Inconsistent shape error\")"
   ]
  },
  {
   "cell_type": "code",
   "execution_count": 7,
   "id": "5b92e957-723b-475c-a641-f83792141daf",
   "metadata": {},
   "outputs": [
    {
     "data": {
      "text/plain": [
       "{0: 1}"
      ]
     },
     "execution_count": 7,
     "metadata": {},
     "output_type": "execute_result"
    }
   ],
   "source": [
    "_dict = {}\n",
    "_dict[0] = 1\n",
    "_dict"
   ]
  },
  {
   "cell_type": "code",
   "execution_count": 27,
   "id": "6f23453e-da52-4666-ba5e-a7ca70a1a713",
   "metadata": {},
   "outputs": [
    {
     "data": {
      "text/plain": [
       "array([ 0,  3,  6, 12])"
      ]
     },
     "execution_count": 27,
     "metadata": {},
     "output_type": "execute_result"
    }
   ],
   "source": [
    "a = np.array([0,1,2])# 1 x 3\n",
    "b = np.array([[0,1,2,4],[0,1,2,4],[0,1,2,4]])# 3 x 4\n",
    "a @ b # 1 x 4 (1x3 3x4)\n",
    "# array([ 0,  3,  6, 12])"
   ]
  },
  {
   "cell_type": "code",
   "execution_count": 30,
   "id": "3497fa0c-9fee-4308-bba0-27db4e1e173b",
   "metadata": {},
   "outputs": [
    {
     "data": {
      "text/plain": [
       "(array([0, 1, 2]), (3, 4))"
      ]
     },
     "execution_count": 30,
     "metadata": {},
     "output_type": "execute_result"
    }
   ],
   "source": [
    "a.T, b.shape"
   ]
  },
  {
   "cell_type": "code",
   "execution_count": 20,
   "id": "632b4e47-7870-4c7d-971f-aa5902f6bf44",
   "metadata": {},
   "outputs": [
    {
     "data": {
      "text/plain": [
       "array([0, 1, 2, 4])"
      ]
     },
     "execution_count": 20,
     "metadata": {},
     "output_type": "execute_result"
    }
   ],
   "source": [
    "b.T"
   ]
  },
  {
   "cell_type": "code",
   "execution_count": 22,
   "id": "b9bf80ca-5f9b-4661-9cc1-d29161679327",
   "metadata": {},
   "outputs": [],
   "source": [
    "c = np.zeros(3)"
   ]
  },
  {
   "cell_type": "code",
   "execution_count": 23,
   "id": "a5aa99de-4af9-40b5-896b-d16c6ef5f718",
   "metadata": {},
   "outputs": [
    {
     "data": {
      "text/plain": [
       "array([0., 0., 0.])"
      ]
     },
     "execution_count": 23,
     "metadata": {},
     "output_type": "execute_result"
    }
   ],
   "source": [
    "c"
   ]
  },
  {
   "cell_type": "code",
   "execution_count": 25,
   "id": "ceb255d4-3b24-4a15-b5d4-8040d78b8bf0",
   "metadata": {},
   "outputs": [
    {
     "data": {
      "text/plain": [
       "(3, 4)"
      ]
     },
     "execution_count": 25,
     "metadata": {},
     "output_type": "execute_result"
    }
   ],
   "source": [
    "b = np.array([[0,1,2,4],[0,1,2,4],[0,1,2,4]])\n",
    "b.shape"
   ]
  },
  {
   "cell_type": "code",
   "execution_count": 34,
   "id": "9d155b28-2121-4014-bcc7-ad5649b17ca8",
   "metadata": {},
   "outputs": [
    {
     "data": {
      "text/plain": [
       "array([[1, 1],\n",
       "       [1, 1],\n",
       "       [1, 1]])"
      ]
     },
     "execution_count": 34,
     "metadata": {},
     "output_type": "execute_result"
    }
   ],
   "source": [
    "d = np.array([[1 for i in range(2)] for j in range(3)])\n",
    "d"
   ]
  },
  {
   "cell_type": "code",
   "execution_count": 35,
   "id": "396a5b4b-3ee9-449c-81ba-0468c2025d11",
   "metadata": {},
   "outputs": [
    {
     "data": {
      "text/plain": [
       "(3, 2)"
      ]
     },
     "execution_count": 35,
     "metadata": {},
     "output_type": "execute_result"
    }
   ],
   "source": [
    "d.shape"
   ]
  },
  {
   "cell_type": "code",
   "execution_count": 37,
   "id": "5165f6dc-5e88-4c3d-b5e7-38c526a24ec5",
   "metadata": {},
   "outputs": [
    {
     "ename": "KeyError",
     "evalue": "1",
     "output_type": "error",
     "traceback": [
      "\u001b[0;31m---------------------------------------------------------------------------\u001b[0m",
      "\u001b[0;31mKeyError\u001b[0m                                  Traceback (most recent call last)",
      "\u001b[0;32m<ipython-input-37-875739f9d3f4>\u001b[0m in \u001b[0;36m<module>\u001b[0;34m\u001b[0m\n\u001b[0;32m----> 1\u001b[0;31m \u001b[0m_dict\u001b[0m\u001b[0;34m[\u001b[0m\u001b[0;36m1\u001b[0m\u001b[0;34m]\u001b[0m\u001b[0;34m\u001b[0m\u001b[0;34m\u001b[0m\u001b[0m\n\u001b[0m",
      "\u001b[0;31mKeyError\u001b[0m: 1"
     ]
    }
   ],
   "source": [
    "_dict[1]"
   ]
  },
  {
   "cell_type": "code",
   "execution_count": null,
   "id": "af466bdf-458c-4d4c-8c94-34d4b9fd9f6f",
   "metadata": {},
   "outputs": [],
   "source": []
  }
 ],
 "metadata": {
  "kernelspec": {
   "display_name": "Python 3",
   "language": "python",
   "name": "python3"
  },
  "language_info": {
   "codemirror_mode": {
    "name": "ipython",
    "version": 3
   },
   "file_extension": ".py",
   "mimetype": "text/x-python",
   "name": "python",
   "nbconvert_exporter": "python",
   "pygments_lexer": "ipython3",
   "version": "3.9.4"
  }
 },
 "nbformat": 4,
 "nbformat_minor": 5
}
